{
 "cells": [
  {
   "cell_type": "code",
   "execution_count": 1,
   "id": "0af25cd1-5a57-4031-af88-22f02158746c",
   "metadata": {
    "tags": []
   },
   "outputs": [],
   "source": [
    "import pandas as pd\n",
    "import numpy as np\n",
    "import matplotlib\n",
    "import tensorflow as tf\n",
    "import os\n",
    "import matplotlib.pyplot as plt "
   ]
  },
  {
   "cell_type": "code",
   "execution_count": 2,
   "id": "22a2392e-b01c-4851-bed4-77dc99fcac9f",
   "metadata": {
    "tags": []
   },
   "outputs": [
    {
     "data": {
      "text/plain": [
       "'/data/home/lmx/psy_test/Github_MentalAId'"
      ]
     },
     "execution_count": 2,
     "metadata": {},
     "output_type": "execute_result"
    }
   ],
   "source": [
    "os.getcwd()"
   ]
  },
  {
   "cell_type": "code",
   "execution_count": 3,
   "id": "a1b9d777-94eb-4db4-a6d6-4ec6d92c3208",
   "metadata": {
    "tags": []
   },
   "outputs": [],
   "source": [
    "os.chdir('/data/home/lmx/psy_test/Github_MentalAId')"
   ]
  },
  {
   "cell_type": "code",
   "execution_count": 4,
   "id": "ae1a628f-b57d-48be-bc14-ec529ea6aa8b",
   "metadata": {},
   "outputs": [],
   "source": [
    "data = pd.read_csv('example_data.csv', index_col='Unnamed: 0')\n",
    "data.reset_index(drop=True, inplace=True)"
   ]
  },
  {
   "cell_type": "code",
   "execution_count": 5,
   "id": "bf1a9b8c-badc-491f-94ca-15a17fe82493",
   "metadata": {},
   "outputs": [
    {
     "data": {
      "text/html": [
       "<div>\n",
       "<style scoped>\n",
       "    .dataframe tbody tr th:only-of-type {\n",
       "        vertical-align: middle;\n",
       "    }\n",
       "\n",
       "    .dataframe tbody tr th {\n",
       "        vertical-align: top;\n",
       "    }\n",
       "\n",
       "    .dataframe thead th {\n",
       "        text-align: right;\n",
       "    }\n",
       "</style>\n",
       "<table border=\"1\" class=\"dataframe\">\n",
       "  <thead>\n",
       "    <tr style=\"text-align: right;\">\n",
       "      <th></th>\n",
       "      <th>A/G</th>\n",
       "      <th>ALB</th>\n",
       "      <th>ALP</th>\n",
       "      <th>ALT</th>\n",
       "      <th>apoA</th>\n",
       "    </tr>\n",
       "  </thead>\n",
       "  <tbody>\n",
       "    <tr>\n",
       "      <th>0</th>\n",
       "      <td>1.83</td>\n",
       "      <td>42.0</td>\n",
       "      <td>30.0</td>\n",
       "      <td>19.0</td>\n",
       "      <td>1.51</td>\n",
       "    </tr>\n",
       "    <tr>\n",
       "      <th>1</th>\n",
       "      <td>1.36</td>\n",
       "      <td>42.6</td>\n",
       "      <td>59.0</td>\n",
       "      <td>14.0</td>\n",
       "      <td>1.48</td>\n",
       "    </tr>\n",
       "    <tr>\n",
       "      <th>2</th>\n",
       "      <td>0.76</td>\n",
       "      <td>24.8</td>\n",
       "      <td>119.0</td>\n",
       "      <td>11.2</td>\n",
       "      <td>0.74</td>\n",
       "    </tr>\n",
       "    <tr>\n",
       "      <th>3</th>\n",
       "      <td>1.66</td>\n",
       "      <td>42.8</td>\n",
       "      <td>52.0</td>\n",
       "      <td>22.0</td>\n",
       "      <td>1.07</td>\n",
       "    </tr>\n",
       "    <tr>\n",
       "      <th>4</th>\n",
       "      <td>1.80</td>\n",
       "      <td>46.5</td>\n",
       "      <td>112.0</td>\n",
       "      <td>30.0</td>\n",
       "      <td>1.04</td>\n",
       "    </tr>\n",
       "  </tbody>\n",
       "</table>\n",
       "</div>"
      ],
      "text/plain": [
       "    A/G   ALB    ALP   ALT  apoA\n",
       "0  1.83  42.0   30.0  19.0  1.51\n",
       "1  1.36  42.6   59.0  14.0  1.48\n",
       "2  0.76  24.8  119.0  11.2  0.74\n",
       "3  1.66  42.8   52.0  22.0  1.07\n",
       "4  1.80  46.5  112.0  30.0  1.04"
      ]
     },
     "execution_count": 5,
     "metadata": {},
     "output_type": "execute_result"
    }
   ],
   "source": [
    "data.iloc[0:5,0:5]"
   ]
  },
  {
   "cell_type": "code",
   "execution_count": 6,
   "id": "290cd5c1-c1c2-42d7-8bbe-2e30dfa97501",
   "metadata": {},
   "outputs": [],
   "source": [
    "sum_data = pd.read_csv('sum_data.csv', index_col='Unnamed: 0')"
   ]
  },
  {
   "cell_type": "code",
   "execution_count": 7,
   "id": "b3f00e7a-58e8-4aac-816f-e88cd46c95e0",
   "metadata": {},
   "outputs": [
    {
     "data": {
      "text/html": [
       "<div>\n",
       "<style scoped>\n",
       "    .dataframe tbody tr th:only-of-type {\n",
       "        vertical-align: middle;\n",
       "    }\n",
       "\n",
       "    .dataframe tbody tr th {\n",
       "        vertical-align: top;\n",
       "    }\n",
       "\n",
       "    .dataframe thead th {\n",
       "        text-align: right;\n",
       "    }\n",
       "</style>\n",
       "<table border=\"1\" class=\"dataframe\">\n",
       "  <thead>\n",
       "    <tr style=\"text-align: right;\">\n",
       "      <th></th>\n",
       "      <th>mean</th>\n",
       "      <th>sd</th>\n",
       "      <th>mean-2*sd</th>\n",
       "      <th>mean+2*sd</th>\n",
       "      <th>min_fin</th>\n",
       "      <th>max_fin</th>\n",
       "    </tr>\n",
       "  </thead>\n",
       "  <tbody>\n",
       "    <tr>\n",
       "      <th>A/G</th>\n",
       "      <td>1.530264</td>\n",
       "      <td>0.311049</td>\n",
       "      <td>0.908167</td>\n",
       "      <td>2.152361</td>\n",
       "      <td>0.908167</td>\n",
       "      <td>2.152361</td>\n",
       "    </tr>\n",
       "    <tr>\n",
       "      <th>ALB</th>\n",
       "      <td>41.726301</td>\n",
       "      <td>4.663751</td>\n",
       "      <td>32.398799</td>\n",
       "      <td>51.053803</td>\n",
       "      <td>32.398799</td>\n",
       "      <td>51.053803</td>\n",
       "    </tr>\n",
       "    <tr>\n",
       "      <th>ALP</th>\n",
       "      <td>82.506755</td>\n",
       "      <td>55.985144</td>\n",
       "      <td>-29.463532</td>\n",
       "      <td>194.477043</td>\n",
       "      <td>11.000000</td>\n",
       "      <td>194.477043</td>\n",
       "    </tr>\n",
       "    <tr>\n",
       "      <th>ALT</th>\n",
       "      <td>28.223439</td>\n",
       "      <td>58.841374</td>\n",
       "      <td>-89.459308</td>\n",
       "      <td>145.906186</td>\n",
       "      <td>3.000000</td>\n",
       "      <td>145.906186</td>\n",
       "    </tr>\n",
       "    <tr>\n",
       "      <th>apoA</th>\n",
       "      <td>1.287116</td>\n",
       "      <td>0.301230</td>\n",
       "      <td>0.684656</td>\n",
       "      <td>1.889576</td>\n",
       "      <td>0.684656</td>\n",
       "      <td>1.889576</td>\n",
       "    </tr>\n",
       "  </tbody>\n",
       "</table>\n",
       "</div>"
      ],
      "text/plain": [
       "           mean         sd  mean-2*sd   mean+2*sd    min_fin     max_fin\n",
       "A/G    1.530264   0.311049   0.908167    2.152361   0.908167    2.152361\n",
       "ALB   41.726301   4.663751  32.398799   51.053803  32.398799   51.053803\n",
       "ALP   82.506755  55.985144 -29.463532  194.477043  11.000000  194.477043\n",
       "ALT   28.223439  58.841374 -89.459308  145.906186   3.000000  145.906186\n",
       "apoA   1.287116   0.301230   0.684656    1.889576   0.684656    1.889576"
      ]
     },
     "execution_count": 7,
     "metadata": {},
     "output_type": "execute_result"
    }
   ],
   "source": [
    "sum_data.iloc[0:5,:]"
   ]
  },
  {
   "cell_type": "markdown",
   "id": "6a4702f3-2abd-46ce-a4d3-aff1cc0d241e",
   "metadata": {},
   "source": [
    "### Detect missing values and replace (missing values <=3)"
   ]
  },
  {
   "cell_type": "code",
   "execution_count": 8,
   "id": "9cec3e3d-c415-4648-97ad-4e8edcacad59",
   "metadata": {},
   "outputs": [],
   "source": [
    "data.iloc[:, 0:49] = data.iloc[:, 0:49].apply(pd.to_numeric, errors='coerce')"
   ]
  },
  {
   "cell_type": "code",
   "execution_count": 9,
   "id": "58f44cc5-d0c3-4ffc-9030-4b0bc4a542b9",
   "metadata": {},
   "outputs": [],
   "source": [
    "if data.isna().values.any():\n",
    "# replace missing values with 0\n",
    "    data.fillna(0, inplace=True)"
   ]
  },
  {
   "cell_type": "code",
   "execution_count": 10,
   "id": "6402526b-f907-4167-93ee-b31327eb90b8",
   "metadata": {},
   "outputs": [
    {
     "name": "stdout",
     "output_type": "stream",
     "text": [
      "The following records contain less than 3 missing tests:\n",
      "[50, 51, 52, 53, 54, 55, 56, 57, 58, 59]\n",
      "Require imputation\n"
     ]
    }
   ],
   "source": [
    "# Check for missing values\n",
    "\n",
    "# Detect number of missing values in each row\n",
    "detect_na = data.iloc[:, 0:49].apply(lambda x: np.sum(x == 0), axis=1).to_frame()\n",
    "detect_na.columns = ['number of NA']\n",
    "\n",
    "# Identify indices of rows with more than 3 missing values\n",
    "ind_rm = detect_na[detect_na['number of NA'] > 3].index\n",
    "\n",
    "ind_impute = detect_na[(detect_na['number of NA'] > 0) & (detect_na['number of NA'] < 4)].index\n",
    "print(f'The following records contain less than 3 missing tests:\\n{list(ind_impute)}\\nRequire imputation')\n",
    "\n",
    "if len(ind_rm)>0:\n",
    "    print(f'The following records contain more than 3 missing tests:\\n{ind_rm.item()}\\nRemove')\n",
    "\n",
    "# Remove rows with more than 3 missing values\n",
    "data = data.drop(ind_rm)"
   ]
  },
  {
   "cell_type": "code",
   "execution_count": 11,
   "id": "b7e10903-f6e6-4644-a9bb-3e16c7a6986f",
   "metadata": {
    "tags": []
   },
   "outputs": [
    {
     "data": {
      "text/html": [
       "<div>\n",
       "<style scoped>\n",
       "    .dataframe tbody tr th:only-of-type {\n",
       "        vertical-align: middle;\n",
       "    }\n",
       "\n",
       "    .dataframe tbody tr th {\n",
       "        vertical-align: top;\n",
       "    }\n",
       "\n",
       "    .dataframe thead th {\n",
       "        text-align: right;\n",
       "    }\n",
       "</style>\n",
       "<table border=\"1\" class=\"dataframe\">\n",
       "  <thead>\n",
       "    <tr style=\"text-align: right;\">\n",
       "      <th></th>\n",
       "      <th>A/G</th>\n",
       "      <th>ALB</th>\n",
       "      <th>ALP</th>\n",
       "      <th>ALT</th>\n",
       "      <th>apoA</th>\n",
       "      <th>apoB</th>\n",
       "      <th>AST</th>\n",
       "      <th>AST/ALT</th>\n",
       "      <th>Ca</th>\n",
       "      <th>CHO</th>\n",
       "      <th>...</th>\n",
       "      <th>NEU%</th>\n",
       "      <th>PCT</th>\n",
       "      <th>PDW</th>\n",
       "      <th>PLT</th>\n",
       "      <th>RBC</th>\n",
       "      <th>RDW-CV</th>\n",
       "      <th>WBC</th>\n",
       "      <th>Sex</th>\n",
       "      <th>Age</th>\n",
       "      <th>dig</th>\n",
       "    </tr>\n",
       "  </thead>\n",
       "  <tbody>\n",
       "    <tr>\n",
       "      <th>0</th>\n",
       "      <td>1.83</td>\n",
       "      <td>42.0</td>\n",
       "      <td>30.0</td>\n",
       "      <td>19.0</td>\n",
       "      <td>1.51</td>\n",
       "      <td>0.89</td>\n",
       "      <td>16</td>\n",
       "      <td>0.84</td>\n",
       "      <td>2.38</td>\n",
       "      <td>4.97</td>\n",
       "      <td>...</td>\n",
       "      <td>65.9</td>\n",
       "      <td>0.22</td>\n",
       "      <td>12.5</td>\n",
       "      <td>203</td>\n",
       "      <td>4.36</td>\n",
       "      <td>12.1</td>\n",
       "      <td>7.90</td>\n",
       "      <td>0</td>\n",
       "      <td>39</td>\n",
       "      <td>N</td>\n",
       "    </tr>\n",
       "    <tr>\n",
       "      <th>1</th>\n",
       "      <td>1.36</td>\n",
       "      <td>42.6</td>\n",
       "      <td>59.0</td>\n",
       "      <td>14.0</td>\n",
       "      <td>1.48</td>\n",
       "      <td>1.01</td>\n",
       "      <td>14</td>\n",
       "      <td>1.00</td>\n",
       "      <td>2.31</td>\n",
       "      <td>5.55</td>\n",
       "      <td>...</td>\n",
       "      <td>51.0</td>\n",
       "      <td>0.28</td>\n",
       "      <td>11.7</td>\n",
       "      <td>272</td>\n",
       "      <td>4.80</td>\n",
       "      <td>12.4</td>\n",
       "      <td>6.06</td>\n",
       "      <td>0</td>\n",
       "      <td>36</td>\n",
       "      <td>N</td>\n",
       "    </tr>\n",
       "    <tr>\n",
       "      <th>2</th>\n",
       "      <td>0.76</td>\n",
       "      <td>24.8</td>\n",
       "      <td>119.0</td>\n",
       "      <td>11.2</td>\n",
       "      <td>0.74</td>\n",
       "      <td>0.66</td>\n",
       "      <td>22</td>\n",
       "      <td>1.96</td>\n",
       "      <td>2.03</td>\n",
       "      <td>3.66</td>\n",
       "      <td>...</td>\n",
       "      <td>69.9</td>\n",
       "      <td>0.21</td>\n",
       "      <td>9.0</td>\n",
       "      <td>232</td>\n",
       "      <td>2.91</td>\n",
       "      <td>14.4</td>\n",
       "      <td>5.72</td>\n",
       "      <td>1</td>\n",
       "      <td>86</td>\n",
       "      <td>N</td>\n",
       "    </tr>\n",
       "    <tr>\n",
       "      <th>3</th>\n",
       "      <td>1.66</td>\n",
       "      <td>42.8</td>\n",
       "      <td>52.0</td>\n",
       "      <td>22.0</td>\n",
       "      <td>1.07</td>\n",
       "      <td>0.76</td>\n",
       "      <td>16</td>\n",
       "      <td>0.73</td>\n",
       "      <td>2.36</td>\n",
       "      <td>4.09</td>\n",
       "      <td>...</td>\n",
       "      <td>64.7</td>\n",
       "      <td>0.31</td>\n",
       "      <td>12.6</td>\n",
       "      <td>310</td>\n",
       "      <td>5.76</td>\n",
       "      <td>16.4</td>\n",
       "      <td>6.21</td>\n",
       "      <td>1</td>\n",
       "      <td>46</td>\n",
       "      <td>N</td>\n",
       "    </tr>\n",
       "  </tbody>\n",
       "</table>\n",
       "<p>4 rows × 52 columns</p>\n",
       "</div>"
      ],
      "text/plain": [
       "    A/G   ALB    ALP   ALT  apoA  apoB  AST  AST/ALT    Ca   CHO  ...  NEU%  \\\n",
       "0  1.83  42.0   30.0  19.0  1.51  0.89   16     0.84  2.38  4.97  ...  65.9   \n",
       "1  1.36  42.6   59.0  14.0  1.48  1.01   14     1.00  2.31  5.55  ...  51.0   \n",
       "2  0.76  24.8  119.0  11.2  0.74  0.66   22     1.96  2.03  3.66  ...  69.9   \n",
       "3  1.66  42.8   52.0  22.0  1.07  0.76   16     0.73  2.36  4.09  ...  64.7   \n",
       "\n",
       "    PCT   PDW  PLT   RBC  RDW-CV   WBC  Sex  Age  dig  \n",
       "0  0.22  12.5  203  4.36    12.1  7.90    0   39    N  \n",
       "1  0.28  11.7  272  4.80    12.4  6.06    0   36    N  \n",
       "2  0.21   9.0  232  2.91    14.4  5.72    1   86    N  \n",
       "3  0.31  12.6  310  5.76    16.4  6.21    1   46    N  \n",
       "\n",
       "[4 rows x 52 columns]"
      ]
     },
     "execution_count": 11,
     "metadata": {},
     "output_type": "execute_result"
    }
   ],
   "source": [
    "data[0:4]"
   ]
  },
  {
   "cell_type": "code",
   "execution_count": 12,
   "id": "ca7fec63-3c1c-464b-b3ef-27eeffb7dff3",
   "metadata": {},
   "outputs": [],
   "source": [
    "for i in range(data.shape[0]):\n",
    "    for j in range(49):\n",
    "        if data.iloc[i, j] == 0:\n",
    "            data.iloc[i, j] = sum_data.iloc[j, 0]"
   ]
  },
  {
   "cell_type": "markdown",
   "id": "e8f73227-1f9c-43c7-a0dd-a1e3afc4731d",
   "metadata": {},
   "source": [
    "### Feature clipping"
   ]
  },
  {
   "cell_type": "code",
   "execution_count": 13,
   "id": "40910c14-d506-44c1-aa3a-66be5b24b923",
   "metadata": {},
   "outputs": [],
   "source": [
    "for i in range(len(data)):\n",
    "    for j in range(49):\n",
    "        data.iloc[i, j] = max(min(data.iloc[i, j], sum_data.iloc[j, 5]),sum_data.iloc[j, 4])"
   ]
  },
  {
   "cell_type": "markdown",
   "id": "7c59b158-ca63-4fd6-a193-32e9e531ab10",
   "metadata": {},
   "source": [
    "### Data normalization"
   ]
  },
  {
   "cell_type": "code",
   "execution_count": 14,
   "id": "7bafb4c6-d507-42ee-a389-c25213808ea0",
   "metadata": {},
   "outputs": [],
   "source": [
    "for i in range(len(data)):\n",
    "    for j in range(49):\n",
    "        data.iloc[i, j] = (data.iloc[i, j]-sum_data.iloc[j, 4])/(sum_data.iloc[j, 5]-sum_data.iloc[j, 4])"
   ]
  },
  {
   "cell_type": "markdown",
   "id": "28c3074f-81e0-489a-92cb-94d7f60a52d8",
   "metadata": {},
   "source": [
    "### Convert data"
   ]
  },
  {
   "cell_type": "code",
   "execution_count": 15,
   "id": "16568328-4fe2-4402-a6e5-b69ca14a8a97",
   "metadata": {
    "tags": []
   },
   "outputs": [],
   "source": [
    "position = np.load('Feature_position.npy', allow_pickle=True)"
   ]
  },
  {
   "cell_type": "code",
   "execution_count": 16,
   "id": "be4593bd-8b52-4fd9-8165-a975ddf19d3f",
   "metadata": {
    "tags": []
   },
   "outputs": [],
   "source": [
    "position = position.flatten()"
   ]
  },
  {
   "cell_type": "code",
   "execution_count": 17,
   "id": "31c8e65c-bfc3-45bc-ba2d-7a7de25fe258",
   "metadata": {
    "tags": []
   },
   "outputs": [],
   "source": [
    "fmap_shape = (7,7)\n",
    "m,n = fmap_shape"
   ]
  },
  {
   "cell_type": "code",
   "execution_count": 18,
   "id": "719f0890-e1d5-4139-9e2e-bf75ab80f6ec",
   "metadata": {},
   "outputs": [],
   "source": [
    "data_test = data.iloc[:, 0:49]"
   ]
  },
  {
   "cell_type": "code",
   "execution_count": 19,
   "id": "550d9511-223b-4f82-9d41-f1651bb4ff3d",
   "metadata": {
    "tags": []
   },
   "outputs": [],
   "source": [
    "a1 = np.array(data_test.columns)"
   ]
  },
  {
   "cell_type": "code",
   "execution_count": 20,
   "id": "4d45608e-1677-4200-a1fe-b91f0dd6a40f",
   "metadata": {
    "tags": []
   },
   "outputs": [],
   "source": [
    "col_asses = np.array([np.where(position== item)[0][0] for item in a1])"
   ]
  },
  {
   "cell_type": "code",
   "execution_count": 21,
   "id": "69c8092d-f511-4177-acad-12895235413b",
   "metadata": {
    "tags": []
   },
   "outputs": [
    {
     "data": {
      "text/plain": [
       "array([35, 42, 39, 40, 47, 27, 33, 38, 43, 41, 32, 25, 44, 30,  8,  9, 31,\n",
       "       36, 10, 48,  0, 29, 26, 34, 12, 37, 46,  1, 20, 28, 15, 23, 11, 22,\n",
       "       14,  7, 45,  3,  2,  4, 18, 17,  6, 13, 16, 19, 21, 24,  5])"
      ]
     },
     "execution_count": 21,
     "metadata": {},
     "output_type": "execute_result"
    }
   ],
   "source": [
    "col_asses"
   ]
  },
  {
   "cell_type": "code",
   "execution_count": 22,
   "id": "90a09482-a8d1-4864-b5e1-8ccf81d125b1",
   "metadata": {},
   "outputs": [],
   "source": [
    "nrow = data_test.index.size\n",
    "x_data = []\n",
    "\n",
    "for i in range(nrow):\n",
    "    rec = np.array(data_test.iloc[i,:])\n",
    "    empty = np.zeros(fmap_shape, dtype='O').reshape(m*n,)\n",
    "    empty[col_asses] = rec\n",
    "    rec = empty.reshape(7,7)\n",
    "    x_data.append(rec)\n",
    "\n",
    "x_data = np.array(x_data)"
   ]
  },
  {
   "cell_type": "code",
   "execution_count": 23,
   "id": "ce6c8f75-7a3c-410f-9982-b4761b8db956",
   "metadata": {
    "tags": []
   },
   "outputs": [
    {
     "data": {
      "text/plain": [
       "(60, 7, 7)"
      ]
     },
     "execution_count": 23,
     "metadata": {},
     "output_type": "execute_result"
    }
   ],
   "source": [
    "x_data.shape"
   ]
  },
  {
   "cell_type": "code",
   "execution_count": 24,
   "id": "1bb7122f-d26e-4de6-b492-3bc23aae81c6",
   "metadata": {},
   "outputs": [],
   "source": [
    "from tensorflow.keras.utils import to_categorical\n",
    "num_classes = 2\n",
    "y_data = np.array(data['dig'])\n",
    "y_data[y_data == 'N'] = 0\n",
    "y_data[y_data == 'P'] = 1\n",
    "y_data = to_categorical(y_data, num_classes)"
   ]
  },
  {
   "cell_type": "code",
   "execution_count": 25,
   "id": "ec672b17-aa8f-41e3-b7a8-b229f6be5028",
   "metadata": {
    "tags": []
   },
   "outputs": [
    {
     "data": {
      "text/plain": [
       "(60, 2)"
      ]
     },
     "execution_count": 25,
     "metadata": {},
     "output_type": "execute_result"
    }
   ],
   "source": [
    "y_data.shape"
   ]
  },
  {
   "cell_type": "code",
   "execution_count": 26,
   "id": "c12cf601-eac3-4c40-bc67-07678fcb5b69",
   "metadata": {},
   "outputs": [
    {
     "data": {
      "text/plain": [
       "(array([[0., 1.],\n",
       "        [1., 0.]], dtype=float32),\n",
       " array([25, 35]))"
      ]
     },
     "execution_count": 26,
     "metadata": {},
     "output_type": "execute_result"
    }
   ],
   "source": [
    "np.unique(y_data, axis=0, return_counts=True)"
   ]
  },
  {
   "cell_type": "code",
   "execution_count": 27,
   "id": "c8496f62-793f-4f7d-a270-eeb03e4d5975",
   "metadata": {
    "tags": []
   },
   "outputs": [
    {
     "data": {
      "text/plain": [
       "<matplotlib.image.AxesImage at 0x7ff6ef6087d0>"
      ]
     },
     "execution_count": 27,
     "metadata": {},
     "output_type": "execute_result"
    },
    {
     "data": {
      "image/png": "[encoded data removed]",
      "text/plain": [
       "<Figure size 640x480 with 1 Axes>"
      ]
     },
     "metadata": {},
     "output_type": "display_data"
    }
   ],
   "source": [
    "b = np.around(x_data[2].astype('float32'),4)\n",
    "plt.imshow(b, cmap=\"Greys\")"
   ]
  },
  {
   "cell_type": "code",
   "execution_count": 28,
   "id": "87c01f62-b07f-4389-8a22-415c2b2d37cd",
   "metadata": {},
   "outputs": [],
   "source": [
    "np.save('x_data.npy', x_data)\n",
    "np.save('y_data.npy', y_data)  "
   ]
  },
  {
   "cell_type": "code",
   "execution_count": null,
   "id": "8fe96de2-b2b4-45c1-9439-2535602671a4",
   "metadata": {},
   "outputs": [],
   "source": []
  }
 ],
 "metadata": {
  "kernelspec": {
   "display_name": "molmap",
   "language": "python",
   "name": "molmap"
  },
  "language_info": {
   "codemirror_mode": {
    "name": "ipython",
    "version": 3
   },
   "file_extension": ".py",
   "mimetype": "text/x-python",
   "name": "python",
   "nbconvert_exporter": "python",
   "pygments_lexer": "ipython3",
   "version": "3.7.12"
  }
 },
 "nbformat": 4,
 "nbformat_minor": 5
}

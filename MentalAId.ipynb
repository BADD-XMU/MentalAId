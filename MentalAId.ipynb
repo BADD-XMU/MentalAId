{
 "cells": [
  {
   "cell_type": "markdown",
   "id": "316ba68a-f9ba-437b-9a07-0526eae781f5",
   "metadata": {},
   "source": [
    "### load model MentalAId"
   ]
  },
  {
   "cell_type": "code",
   "execution_count": 1,
   "id": "0b5b3f3b-814d-4354-8343-48ee4dd2001f",
   "metadata": {},
   "outputs": [
    {
     "name": "stderr",
     "output_type": "stream",
     "text": [
      "2024-11-06 15:43:13.844767: I tensorflow/stream_executor/platform/default/dso_loader.cc:49] Successfully opened dynamic library libcudart.so.10.1\n"
     ]
    }
   ],
   "source": [
    "import numpy as np\n",
    "import tensorflow as tf\n",
    "import os\n",
    "import pandas as pd\n",
    "from sklearn import metrics\n",
    "from sklearn.metrics import roc_auc_score"
   ]
  },
  {
   "cell_type": "code",
   "execution_count": 2,
   "id": "f753bb4f-2824-49f7-8022-f954bbc02594",
   "metadata": {},
   "outputs": [
    {
     "name": "stderr",
     "output_type": "stream",
     "text": [
      "2024-11-06 15:43:15.437603: I tensorflow/stream_executor/platform/default/dso_loader.cc:49] Successfully opened dynamic library libcuda.so.1\n",
      "2024-11-06 15:43:15.451669: I tensorflow/core/common_runtime/gpu/gpu_device.cc:1720] Found device 0 with properties: \n",
      "pciBusID: 0000:25:00.0 name: Tesla V100-PCIE-32GB computeCapability: 7.0\n",
      "coreClock: 1.38GHz coreCount: 80 deviceMemorySize: 31.75GiB deviceMemoryBandwidth: 836.37GiB/s\n",
      "2024-11-06 15:43:15.451706: I tensorflow/stream_executor/platform/default/dso_loader.cc:49] Successfully opened dynamic library libcudart.so.10.1\n",
      "2024-11-06 15:43:15.454014: I tensorflow/stream_executor/platform/default/dso_loader.cc:49] Successfully opened dynamic library libcublas.so.10\n",
      "2024-11-06 15:43:15.454055: I tensorflow/stream_executor/platform/default/dso_loader.cc:49] Successfully opened dynamic library libcublasLt.so.10\n",
      "2024-11-06 15:43:15.456387: I tensorflow/stream_executor/platform/default/dso_loader.cc:49] Successfully opened dynamic library libcufft.so.10\n",
      "2024-11-06 15:43:15.456707: I tensorflow/stream_executor/platform/default/dso_loader.cc:49] Successfully opened dynamic library libcurand.so.10\n",
      "2024-11-06 15:43:15.459295: I tensorflow/stream_executor/platform/default/dso_loader.cc:49] Successfully opened dynamic library libcusolver.so.10\n",
      "2024-11-06 15:43:15.460509: I tensorflow/stream_executor/platform/default/dso_loader.cc:49] Successfully opened dynamic library libcusparse.so.10\n",
      "2024-11-06 15:43:15.465783: I tensorflow/stream_executor/platform/default/dso_loader.cc:49] Successfully opened dynamic library libcudnn.so.7\n",
      "2024-11-06 15:43:15.466331: I tensorflow/core/common_runtime/gpu/gpu_device.cc:1862] Adding visible gpu devices: 0\n"
     ]
    }
   ],
   "source": [
    "os.environ[\"CUDA_VISIBLE_DEVICES\"] = \"0\"\n",
    "\n",
    "tf.config.threading.set_inter_op_parallelism_threads(1)\n",
    "tf.config.threading.set_intra_op_parallelism_threads(1)\n",
    "tf.config.set_soft_device_placement = False\n",
    "tf.config.experimental.set_memory_growth = True\n",
    "\n",
    "gpus = tf.config.experimental.list_physical_devices('GPU')\n",
    "tf.config.experimental.set_virtual_device_configuration(gpus[0], [tf.config.experimental.VirtualDeviceConfiguration(memory_limit=1024)])"
   ]
  },
  {
   "cell_type": "code",
   "execution_count": 3,
   "id": "66636bb5-b9f1-48d1-aa92-d78e14f0be88",
   "metadata": {
    "tags": []
   },
   "outputs": [],
   "source": [
    "os.chdir('/data/home/lmx/psy_test/Github_MentalAId')"
   ]
  },
  {
   "cell_type": "code",
   "execution_count": 4,
   "id": "12b09e35-3c78-4306-9593-1c733c28f9dc",
   "metadata": {},
   "outputs": [
    {
     "name": "stderr",
     "output_type": "stream",
     "text": [
      "2024-11-06 15:43:15.579353: I tensorflow/core/platform/cpu_feature_guard.cc:142] This TensorFlow binary is optimized with oneAPI Deep Neural Network Library (oneDNN) to use the following CPU instructions in performance-critical operations:  SSE4.1 SSE4.2 AVX AVX2 AVX512F FMA\n",
      "To enable them in other operations, rebuild TensorFlow with the appropriate compiler flags.\n",
      "2024-11-06 15:43:15.586337: I tensorflow/core/platform/profile_utils/cpu_utils.cc:112] CPU Frequency: 2700000000 Hz\n",
      "2024-11-06 15:43:15.586589: I tensorflow/compiler/xla/service/service.cc:168] XLA service 0x5f6c7e0 initialized for platform Host (this does not guarantee that XLA will be used). Devices:\n",
      "2024-11-06 15:43:15.586619: I tensorflow/compiler/xla/service/service.cc:176]   StreamExecutor device (0): Host, Default Version\n",
      "2024-11-06 15:43:15.743595: I tensorflow/compiler/xla/service/service.cc:168] XLA service 0x6998a40 initialized for platform CUDA (this does not guarantee that XLA will be used). Devices:\n",
      "2024-11-06 15:43:15.743659: I tensorflow/compiler/xla/service/service.cc:176]   StreamExecutor device (0): Tesla V100-PCIE-32GB, Compute Capability 7.0\n",
      "2024-11-06 15:43:15.744549: I tensorflow/core/common_runtime/gpu/gpu_device.cc:1720] Found device 0 with properties: \n",
      "pciBusID: 0000:25:00.0 name: Tesla V100-PCIE-32GB computeCapability: 7.0\n",
      "coreClock: 1.38GHz coreCount: 80 deviceMemorySize: 31.75GiB deviceMemoryBandwidth: 836.37GiB/s\n",
      "2024-11-06 15:43:15.744614: I tensorflow/stream_executor/platform/default/dso_loader.cc:49] Successfully opened dynamic library libcudart.so.10.1\n",
      "2024-11-06 15:43:15.744669: I tensorflow/stream_executor/platform/default/dso_loader.cc:49] Successfully opened dynamic library libcublas.so.10\n",
      "2024-11-06 15:43:15.744700: I tensorflow/stream_executor/platform/default/dso_loader.cc:49] Successfully opened dynamic library libcublasLt.so.10\n",
      "2024-11-06 15:43:15.744730: I tensorflow/stream_executor/platform/default/dso_loader.cc:49] Successfully opened dynamic library libcufft.so.10\n",
      "2024-11-06 15:43:15.744761: I tensorflow/stream_executor/platform/default/dso_loader.cc:49] Successfully opened dynamic library libcurand.so.10\n",
      "2024-11-06 15:43:15.744790: I tensorflow/stream_executor/platform/default/dso_loader.cc:49] Successfully opened dynamic library libcusolver.so.10\n",
      "2024-11-06 15:43:15.744819: I tensorflow/stream_executor/platform/default/dso_loader.cc:49] Successfully opened dynamic library libcusparse.so.10\n",
      "2024-11-06 15:43:15.744849: I tensorflow/stream_executor/platform/default/dso_loader.cc:49] Successfully opened dynamic library libcudnn.so.7\n",
      "2024-11-06 15:43:15.745704: I tensorflow/core/common_runtime/gpu/gpu_device.cc:1862] Adding visible gpu devices: 0\n",
      "2024-11-06 15:43:15.745775: I tensorflow/stream_executor/platform/default/dso_loader.cc:49] Successfully opened dynamic library libcudart.so.10.1\n",
      "2024-11-06 15:43:16.354716: I tensorflow/core/common_runtime/gpu/gpu_device.cc:1261] Device interconnect StreamExecutor with strength 1 edge matrix:\n",
      "2024-11-06 15:43:16.354769: I tensorflow/core/common_runtime/gpu/gpu_device.cc:1267]      0 \n",
      "2024-11-06 15:43:16.354782: I tensorflow/core/common_runtime/gpu/gpu_device.cc:1280] 0:   N \n",
      "2024-11-06 15:43:16.355586: I tensorflow/core/common_runtime/gpu/gpu_device.cc:1406] Created TensorFlow device (/job:localhost/replica:0/task:0/device:GPU:0 with 1024 MB memory) -> physical GPU (device: 0, name: Tesla V100-PCIE-32GB, pci bus id: 0000:25:00.0, compute capability: 7.0)\n"
     ]
    }
   ],
   "source": [
    "MentalAId = tf.keras.models.load_model('model/')"
   ]
  },
  {
   "cell_type": "code",
   "execution_count": 5,
   "id": "7adacafb-c42b-4780-aec9-6bc16427fc55",
   "metadata": {},
   "outputs": [
    {
     "name": "stdout",
     "output_type": "stream",
     "text": [
      "(60, 7, 7)\n"
     ]
    }
   ],
   "source": [
    "x_data = np.load('x_data.npy',allow_pickle=True)\n",
    "y_data = np.load('y_data.npy',allow_pickle=True)\n",
    "print(x_data.shape)\n",
    "x_data = np.expand_dims(x_data, -1)\n",
    "x_data = x_data.astype('float32') "
   ]
  },
  {
   "cell_type": "code",
   "execution_count": 6,
   "id": "c27e2489-6c02-44e3-9fa7-c3cc515f9bfe",
   "metadata": {
    "tags": []
   },
   "outputs": [],
   "source": [
    "data = pd.read_csv('example_data.csv', index_col='Unnamed: 0')\n",
    "\n",
    "sex_data = data['Sex']\n",
    "sex_data.value_counts()\n",
    "sex_data = np.array(sex_data).astype(np.float32)\n",
    "\n",
    "age_data = data['Age']\n",
    "\n",
    "age_data = np.array(age_data).astype(np.float32)"
   ]
  },
  {
   "cell_type": "code",
   "execution_count": 7,
   "id": "43d16aa5-efc9-493d-a915-ae6bdbb29e77",
   "metadata": {},
   "outputs": [
    {
     "name": "stderr",
     "output_type": "stream",
     "text": [
      "2024-11-06 15:43:19.317052: I tensorflow/compiler/mlir/mlir_graph_optimization_pass.cc:116] None of the MLIR optimization passes are enabled (registered 2)\n",
      "2024-11-06 15:43:19.616704: I tensorflow/stream_executor/platform/default/dso_loader.cc:49] Successfully opened dynamic library libcublas.so.10\n",
      "2024-11-06 15:43:19.856802: I tensorflow/stream_executor/platform/default/dso_loader.cc:49] Successfully opened dynamic library libcudnn.so.7\n"
     ]
    }
   ],
   "source": [
    "pred = MentalAId.predict([x_data, age_data, sex_data])"
   ]
  },
  {
   "cell_type": "code",
   "execution_count": 8,
   "id": "bb7a2df4-82bb-4592-be7e-65b06826e212",
   "metadata": {
    "tags": []
   },
   "outputs": [
    {
     "name": "stdout",
     "output_type": "stream",
     "text": [
      "> AUC: 0.989\n"
     ]
    }
   ],
   "source": [
    "auc = roc_auc_score(y_data, pred)\n",
    "print(f'> AUC: %.3f' % (auc))"
   ]
  },
  {
   "cell_type": "code",
   "execution_count": 9,
   "id": "9656163e-c9a7-4dc4-8f69-6512ee18bd53",
   "metadata": {
    "tags": []
   },
   "outputs": [
    {
     "name": "stdout",
     "output_type": "stream",
     "text": [
      "MentalAId prediction performance:\n",
      "> Accuracy: 0.967 \n",
      "> Precision: 1.000 \n",
      "> Recall: 0.920 \n",
      "> Specificity: 1.000 \n",
      "> MCC: 0.933 \n"
     ]
    }
   ],
   "source": [
    "pred_bin = (pred[:,1] >= 0.5).astype(int)\n",
    "y_data_bin = np.argmax(y_data,axis=1)\n",
    "\n",
    "acc = metrics.accuracy_score(y_data_bin, pred_bin)\n",
    "prec = metrics.precision_score(y_data_bin, pred_bin)\n",
    "rec = metrics.recall_score(y_data_bin, pred_bin)\n",
    "\n",
    "cm = metrics.confusion_matrix(y_data_bin,pred_bin) # confusion matrix\n",
    "spec = cm[0,0]/(cm[0,0]+cm[0,1])\n",
    "mcc = metrics.matthews_corrcoef(y_data_bin, pred_bin)\n",
    "\n",
    "print('MentalAId prediction performance:')\n",
    "print(f'> Accuracy: %.3f ' % acc)\n",
    "print(f'> Precision: %.3f ' % prec)\n",
    "print(f'> Recall: %.3f ' % rec)\n",
    "print(f'> Specificity: %.3f ' % spec)\n",
    "print(f'> MCC: %.3f ' % mcc)"
   ]
  },
  {
   "cell_type": "code",
   "execution_count": null,
   "id": "aaa60956-ecc0-439a-a0e9-ef33efee9d55",
   "metadata": {},
   "outputs": [],
   "source": []
  }
 ],
 "metadata": {
  "kernelspec": {
   "display_name": "tensorflow-2.4",
   "language": "python",
   "name": "tensorflow-2.4"
  },
  "language_info": {
   "codemirror_mode": {
    "name": "ipython",
    "version": 3
   },
   "file_extension": ".py",
   "mimetype": "text/x-python",
   "name": "python",
   "nbconvert_exporter": "python",
   "pygments_lexer": "ipython3",
   "version": "3.8.19"
  }
 },
 "nbformat": 4,
 "nbformat_minor": 5
}

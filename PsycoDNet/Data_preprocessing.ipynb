{
 "cells": [
  {
   "cell_type": "code",
   "execution_count": 1,
   "id": "0af25cd1-5a57-4031-af88-22f02158746c",
   "metadata": {
    "tags": []
   },
   "outputs": [],
   "source": [
    "import pandas as pd\n",
    "import numpy as np\n",
    "import matplotlib\n",
    "import tensorflow as tf"
   ]
  },
  {
   "cell_type": "code",
   "execution_count": 2,
   "id": "ae1a628f-b57d-48be-bc14-ec529ea6aa8b",
   "metadata": {},
   "outputs": [],
   "source": [
    "data = pd.read_csv('example_data.csv', index_col='Unnamed: 0')"
   ]
  },
  {
   "cell_type": "code",
   "execution_count": 3,
   "id": "bf1a9b8c-badc-491f-94ca-15a17fe82493",
   "metadata": {},
   "outputs": [
    {
     "data": {
      "text/html": [
       "<div>\n",
       "<style scoped>\n",
       "    .dataframe tbody tr th:only-of-type {\n",
       "        vertical-align: middle;\n",
       "    }\n",
       "\n",
       "    .dataframe tbody tr th {\n",
       "        vertical-align: top;\n",
       "    }\n",
       "\n",
       "    .dataframe thead th {\n",
       "        text-align: right;\n",
       "    }\n",
       "</style>\n",
       "<table border=\"1\" class=\"dataframe\">\n",
       "  <thead>\n",
       "    <tr style=\"text-align: right;\">\n",
       "      <th></th>\n",
       "      <th>A/G</th>\n",
       "      <th>ALB</th>\n",
       "      <th>ALP</th>\n",
       "      <th>ALT</th>\n",
       "      <th>apoA</th>\n",
       "    </tr>\n",
       "  </thead>\n",
       "  <tbody>\n",
       "    <tr>\n",
       "      <th>1</th>\n",
       "      <td>1.05</td>\n",
       "      <td>29.8</td>\n",
       "      <td>209</td>\n",
       "      <td>200</td>\n",
       "      <td>0.44</td>\n",
       "    </tr>\n",
       "    <tr>\n",
       "      <th>2</th>\n",
       "      <td>0.99</td>\n",
       "      <td>36.6</td>\n",
       "      <td>109</td>\n",
       "      <td>113</td>\n",
       "      <td>0.96</td>\n",
       "    </tr>\n",
       "    <tr>\n",
       "      <th>3</th>\n",
       "      <td>2.48</td>\n",
       "      <td>47.2</td>\n",
       "      <td>54</td>\n",
       "      <td>168</td>\n",
       "      <td>0.98</td>\n",
       "    </tr>\n",
       "    <tr>\n",
       "      <th>4</th>\n",
       "      <td>0.77</td>\n",
       "      <td>34.7</td>\n",
       "      <td>140</td>\n",
       "      <td>27</td>\n",
       "      <td>0.70</td>\n",
       "    </tr>\n",
       "    <tr>\n",
       "      <th>5</th>\n",
       "      <td>1.81</td>\n",
       "      <td>46.5</td>\n",
       "      <td>58</td>\n",
       "      <td>131</td>\n",
       "      <td>1.74</td>\n",
       "    </tr>\n",
       "  </tbody>\n",
       "</table>\n",
       "</div>"
      ],
      "text/plain": [
       "    A/G   ALB  ALP  ALT  apoA\n",
       "1  1.05  29.8  209  200  0.44\n",
       "2  0.99  36.6  109  113  0.96\n",
       "3  2.48  47.2   54  168  0.98\n",
       "4  0.77  34.7  140   27  0.70\n",
       "5  1.81  46.5   58  131  1.74"
      ]
     },
     "execution_count": 3,
     "metadata": {},
     "output_type": "execute_result"
    }
   ],
   "source": [
    "data.iloc[0:5,0:5]"
   ]
  },
  {
   "cell_type": "code",
   "execution_count": 4,
   "id": "290cd5c1-c1c2-42d7-8bbe-2e30dfa97501",
   "metadata": {},
   "outputs": [],
   "source": [
    "sum_data = pd.read_csv('sum_data.csv', index_col='Unnamed: 0')"
   ]
  },
  {
   "cell_type": "code",
   "execution_count": 5,
   "id": "b3f00e7a-58e8-4aac-816f-e88cd46c95e0",
   "metadata": {},
   "outputs": [
    {
     "data": {
      "text/html": [
       "<div>\n",
       "<style scoped>\n",
       "    .dataframe tbody tr th:only-of-type {\n",
       "        vertical-align: middle;\n",
       "    }\n",
       "\n",
       "    .dataframe tbody tr th {\n",
       "        vertical-align: top;\n",
       "    }\n",
       "\n",
       "    .dataframe thead th {\n",
       "        text-align: right;\n",
       "    }\n",
       "</style>\n",
       "<table border=\"1\" class=\"dataframe\">\n",
       "  <thead>\n",
       "    <tr style=\"text-align: right;\">\n",
       "      <th></th>\n",
       "      <th>mean</th>\n",
       "      <th>sd</th>\n",
       "      <th>mean-2*sd</th>\n",
       "      <th>mean+2*sd</th>\n",
       "      <th>min_fin</th>\n",
       "      <th>max_fin</th>\n",
       "    </tr>\n",
       "  </thead>\n",
       "  <tbody>\n",
       "    <tr>\n",
       "      <th>A/G</th>\n",
       "      <td>1.520171</td>\n",
       "      <td>0.307871</td>\n",
       "      <td>0.904428</td>\n",
       "      <td>2.135913</td>\n",
       "      <td>0.904428</td>\n",
       "      <td>2.135913</td>\n",
       "    </tr>\n",
       "    <tr>\n",
       "      <th>ALB</th>\n",
       "      <td>41.243041</td>\n",
       "      <td>4.542076</td>\n",
       "      <td>32.158889</td>\n",
       "      <td>50.327192</td>\n",
       "      <td>32.158889</td>\n",
       "      <td>50.327192</td>\n",
       "    </tr>\n",
       "    <tr>\n",
       "      <th>ALP</th>\n",
       "      <td>81.823572</td>\n",
       "      <td>59.322209</td>\n",
       "      <td>-36.820845</td>\n",
       "      <td>200.467990</td>\n",
       "      <td>11.000000</td>\n",
       "      <td>200.467990</td>\n",
       "    </tr>\n",
       "    <tr>\n",
       "      <th>ALT</th>\n",
       "      <td>28.028257</td>\n",
       "      <td>53.211918</td>\n",
       "      <td>-78.395580</td>\n",
       "      <td>134.452094</td>\n",
       "      <td>2.000000</td>\n",
       "      <td>134.452094</td>\n",
       "    </tr>\n",
       "    <tr>\n",
       "      <th>apoA</th>\n",
       "      <td>1.288934</td>\n",
       "      <td>0.304473</td>\n",
       "      <td>0.679987</td>\n",
       "      <td>1.897881</td>\n",
       "      <td>0.679987</td>\n",
       "      <td>1.897881</td>\n",
       "    </tr>\n",
       "  </tbody>\n",
       "</table>\n",
       "</div>"
      ],
      "text/plain": [
       "           mean         sd  mean-2*sd   mean+2*sd    min_fin     max_fin\n",
       "A/G    1.520171   0.307871   0.904428    2.135913   0.904428    2.135913\n",
       "ALB   41.243041   4.542076  32.158889   50.327192  32.158889   50.327192\n",
       "ALP   81.823572  59.322209 -36.820845  200.467990  11.000000  200.467990\n",
       "ALT   28.028257  53.211918 -78.395580  134.452094   2.000000  134.452094\n",
       "apoA   1.288934   0.304473   0.679987    1.897881   0.679987    1.897881"
      ]
     },
     "execution_count": 5,
     "metadata": {},
     "output_type": "execute_result"
    }
   ],
   "source": [
    "sum_data.iloc[0:5,:]"
   ]
  },
  {
   "cell_type": "code",
   "execution_count": 6,
   "id": "21448df9-7280-4235-8bc3-d57315e7e92e",
   "metadata": {},
   "outputs": [],
   "source": [
    "# data.iloc[0,0:4] = \"P\"\n",
    "# data.iloc[1,0:2] = \"P\""
   ]
  },
  {
   "cell_type": "markdown",
   "id": "6a4702f3-2abd-46ce-a4d3-aff1cc0d241e",
   "metadata": {},
   "source": [
    "### Detect missing values and replace (missing values <=3)"
   ]
  },
  {
   "cell_type": "code",
   "execution_count": 7,
   "id": "9cec3e3d-c415-4648-97ad-4e8edcacad59",
   "metadata": {},
   "outputs": [],
   "source": [
    "data.iloc[:, 0:49] = data.iloc[:, 0:49].apply(pd.to_numeric, errors='coerce')"
   ]
  },
  {
   "cell_type": "code",
   "execution_count": 8,
   "id": "b2c46ffa-2817-48b1-9190-634e8fa496d6",
   "metadata": {},
   "outputs": [
    {
     "data": {
      "text/html": [
       "<div>\n",
       "<style scoped>\n",
       "    .dataframe tbody tr th:only-of-type {\n",
       "        vertical-align: middle;\n",
       "    }\n",
       "\n",
       "    .dataframe tbody tr th {\n",
       "        vertical-align: top;\n",
       "    }\n",
       "\n",
       "    .dataframe thead th {\n",
       "        text-align: right;\n",
       "    }\n",
       "</style>\n",
       "<table border=\"1\" class=\"dataframe\">\n",
       "  <thead>\n",
       "    <tr style=\"text-align: right;\">\n",
       "      <th></th>\n",
       "      <th>A/G</th>\n",
       "      <th>ALB</th>\n",
       "      <th>ALP</th>\n",
       "      <th>ALT</th>\n",
       "      <th>apoA</th>\n",
       "      <th>apoB</th>\n",
       "      <th>AST</th>\n",
       "    </tr>\n",
       "  </thead>\n",
       "  <tbody>\n",
       "    <tr>\n",
       "      <th>1</th>\n",
       "      <td>1.05</td>\n",
       "      <td>29.8</td>\n",
       "      <td>209</td>\n",
       "      <td>200</td>\n",
       "      <td>0.44</td>\n",
       "      <td>1.00</td>\n",
       "      <td>200</td>\n",
       "    </tr>\n",
       "    <tr>\n",
       "      <th>2</th>\n",
       "      <td>0.99</td>\n",
       "      <td>36.6</td>\n",
       "      <td>109</td>\n",
       "      <td>113</td>\n",
       "      <td>0.96</td>\n",
       "      <td>0.78</td>\n",
       "      <td>38</td>\n",
       "    </tr>\n",
       "    <tr>\n",
       "      <th>3</th>\n",
       "      <td>2.48</td>\n",
       "      <td>47.2</td>\n",
       "      <td>54</td>\n",
       "      <td>168</td>\n",
       "      <td>0.98</td>\n",
       "      <td>1.20</td>\n",
       "      <td>56</td>\n",
       "    </tr>\n",
       "    <tr>\n",
       "      <th>4</th>\n",
       "      <td>0.77</td>\n",
       "      <td>34.7</td>\n",
       "      <td>140</td>\n",
       "      <td>27</td>\n",
       "      <td>0.70</td>\n",
       "      <td>0.70</td>\n",
       "      <td>25</td>\n",
       "    </tr>\n",
       "    <tr>\n",
       "      <th>5</th>\n",
       "      <td>1.81</td>\n",
       "      <td>46.5</td>\n",
       "      <td>58</td>\n",
       "      <td>131</td>\n",
       "      <td>1.74</td>\n",
       "      <td>0.86</td>\n",
       "      <td>74</td>\n",
       "    </tr>\n",
       "  </tbody>\n",
       "</table>\n",
       "</div>"
      ],
      "text/plain": [
       "    A/G   ALB  ALP  ALT  apoA  apoB  AST\n",
       "1  1.05  29.8  209  200  0.44  1.00  200\n",
       "2  0.99  36.6  109  113  0.96  0.78   38\n",
       "3  2.48  47.2   54  168  0.98  1.20   56\n",
       "4  0.77  34.7  140   27  0.70  0.70   25\n",
       "5  1.81  46.5   58  131  1.74  0.86   74"
      ]
     },
     "execution_count": 8,
     "metadata": {},
     "output_type": "execute_result"
    }
   ],
   "source": [
    "data.iloc[0:5,0:7]"
   ]
  },
  {
   "cell_type": "code",
   "execution_count": 9,
   "id": "58f44cc5-d0c3-4ffc-9030-4b0bc4a542b9",
   "metadata": {},
   "outputs": [],
   "source": [
    "if data.isna().values.any():\n",
    "# replace missing values with 0\n",
    "    data.fillna(0, inplace=True)"
   ]
  },
  {
   "cell_type": "code",
   "execution_count": 10,
   "id": "888703db-4414-475b-b4b0-fdd6b53a53ff",
   "metadata": {},
   "outputs": [
    {
     "data": {
      "text/html": [
       "<div>\n",
       "<style scoped>\n",
       "    .dataframe tbody tr th:only-of-type {\n",
       "        vertical-align: middle;\n",
       "    }\n",
       "\n",
       "    .dataframe tbody tr th {\n",
       "        vertical-align: top;\n",
       "    }\n",
       "\n",
       "    .dataframe thead th {\n",
       "        text-align: right;\n",
       "    }\n",
       "</style>\n",
       "<table border=\"1\" class=\"dataframe\">\n",
       "  <thead>\n",
       "    <tr style=\"text-align: right;\">\n",
       "      <th></th>\n",
       "      <th>A/G</th>\n",
       "      <th>ALB</th>\n",
       "      <th>ALP</th>\n",
       "      <th>ALT</th>\n",
       "      <th>apoA</th>\n",
       "      <th>apoB</th>\n",
       "      <th>AST</th>\n",
       "    </tr>\n",
       "  </thead>\n",
       "  <tbody>\n",
       "    <tr>\n",
       "      <th>1</th>\n",
       "      <td>1.05</td>\n",
       "      <td>29.8</td>\n",
       "      <td>209</td>\n",
       "      <td>200</td>\n",
       "      <td>0.44</td>\n",
       "      <td>1.00</td>\n",
       "      <td>200</td>\n",
       "    </tr>\n",
       "    <tr>\n",
       "      <th>2</th>\n",
       "      <td>0.99</td>\n",
       "      <td>36.6</td>\n",
       "      <td>109</td>\n",
       "      <td>113</td>\n",
       "      <td>0.96</td>\n",
       "      <td>0.78</td>\n",
       "      <td>38</td>\n",
       "    </tr>\n",
       "    <tr>\n",
       "      <th>3</th>\n",
       "      <td>2.48</td>\n",
       "      <td>47.2</td>\n",
       "      <td>54</td>\n",
       "      <td>168</td>\n",
       "      <td>0.98</td>\n",
       "      <td>1.20</td>\n",
       "      <td>56</td>\n",
       "    </tr>\n",
       "    <tr>\n",
       "      <th>4</th>\n",
       "      <td>0.77</td>\n",
       "      <td>34.7</td>\n",
       "      <td>140</td>\n",
       "      <td>27</td>\n",
       "      <td>0.70</td>\n",
       "      <td>0.70</td>\n",
       "      <td>25</td>\n",
       "    </tr>\n",
       "    <tr>\n",
       "      <th>5</th>\n",
       "      <td>1.81</td>\n",
       "      <td>46.5</td>\n",
       "      <td>58</td>\n",
       "      <td>131</td>\n",
       "      <td>1.74</td>\n",
       "      <td>0.86</td>\n",
       "      <td>74</td>\n",
       "    </tr>\n",
       "  </tbody>\n",
       "</table>\n",
       "</div>"
      ],
      "text/plain": [
       "    A/G   ALB  ALP  ALT  apoA  apoB  AST\n",
       "1  1.05  29.8  209  200  0.44  1.00  200\n",
       "2  0.99  36.6  109  113  0.96  0.78   38\n",
       "3  2.48  47.2   54  168  0.98  1.20   56\n",
       "4  0.77  34.7  140   27  0.70  0.70   25\n",
       "5  1.81  46.5   58  131  1.74  0.86   74"
      ]
     },
     "execution_count": 10,
     "metadata": {},
     "output_type": "execute_result"
    }
   ],
   "source": [
    "data.iloc[0:5,0:7]"
   ]
  },
  {
   "cell_type": "code",
   "execution_count": 11,
   "id": "7b9533ce-4e2f-4510-a77d-2b2a3bb45aa3",
   "metadata": {},
   "outputs": [],
   "source": [
    "# Check for missing values\n",
    "\n",
    "# Detect number of missing values in each row\n",
    "detect_na = data.iloc[:, 0:49].apply(lambda x: np.sum(x == 0), axis=1).to_frame()\n",
    "detect_na.columns = ['number of NA']\n",
    "\n",
    "# Identify indices of rows with more than 3 missing values\n",
    "ind_rm = detect_na[detect_na['number of NA'] > 3].index\n",
    "\n",
    "# Remove rows with more than 3 missing values\n",
    "data = data.drop(ind_rm)"
   ]
  },
  {
   "cell_type": "code",
   "execution_count": 12,
   "id": "ca7fec63-3c1c-464b-b3ef-27eeffb7dff3",
   "metadata": {},
   "outputs": [],
   "source": [
    "for i in range(data.shape[0]):\n",
    "    for j in range(49):\n",
    "        if data.iloc[i, j] == 0:\n",
    "            data.iloc[i, j] = sum_data.iloc[j, 0]"
   ]
  },
  {
   "cell_type": "markdown",
   "id": "e8f73227-1f9c-43c7-a0dd-a1e3afc4731d",
   "metadata": {},
   "source": [
    "### Feature clipping"
   ]
  },
  {
   "cell_type": "code",
   "execution_count": 13,
   "id": "40910c14-d506-44c1-aa3a-66be5b24b923",
   "metadata": {},
   "outputs": [],
   "source": [
    "for i in range(len(data)):\n",
    "    for j in range(49):\n",
    "        data.iloc[i, j] = max(min(data.iloc[i, j], sum_data.iloc[j, 5]),sum_data.iloc[j, 4])"
   ]
  },
  {
   "cell_type": "markdown",
   "id": "7c59b158-ca63-4fd6-a193-32e9e531ab10",
   "metadata": {},
   "source": [
    "### Data normalization"
   ]
  },
  {
   "cell_type": "code",
   "execution_count": 14,
   "id": "7bafb4c6-d507-42ee-a389-c25213808ea0",
   "metadata": {},
   "outputs": [],
   "source": [
    "for i in range(len(data)):\n",
    "    for j in range(49):\n",
    "        data.iloc[i, j] = (data.iloc[i, j]-sum_data.iloc[j, 4])/(sum_data.iloc[j, 5]-sum_data.iloc[j, 4])"
   ]
  },
  {
   "cell_type": "markdown",
   "id": "28c3074f-81e0-489a-92cb-94d7f60a52d8",
   "metadata": {},
   "source": [
    "### Convert data"
   ]
  },
  {
   "cell_type": "code",
   "execution_count": 15,
   "id": "74d2c9c4-f734-4d48-a629-d915ba1492af",
   "metadata": {},
   "outputs": [],
   "source": [
    "data_feature = data.iloc[: , 0:49]"
   ]
  },
  {
   "cell_type": "code",
   "execution_count": 16,
   "id": "63b7bee2-8fb8-4927-a77f-11d0412ff672",
   "metadata": {},
   "outputs": [],
   "source": [
    "fmap_shape = (7,7)\n",
    "embedding = pd.read_csv('embedding.csv', index_col='Unnamed: 0')\n",
    "col_asses = embedding['indices']"
   ]
  },
  {
   "cell_type": "code",
   "execution_count": 17,
   "id": "546711ba-f3ed-477f-939f-f00321eee2e8",
   "metadata": {},
   "outputs": [],
   "source": [
    "nrow = data_feature.index.size\n",
    "data_2d = []\n",
    "\n",
    "for i in range(nrow):\n",
    "    rec = np.array(data_feature.iloc[i,:])\n",
    "    empty = np.zeros(fmap_shape, dtype='O').reshape(7*7,)\n",
    "    empty[col_asses] = rec\n",
    "    rec = empty.reshape(7,7)\n",
    "    data_2d.append(rec)\n",
    "\n",
    "data_2d = np.array(data_2d)"
   ]
  },
  {
   "cell_type": "code",
   "execution_count": 18,
   "id": "3444ca17-c00d-4a19-a141-0583ede99e3c",
   "metadata": {},
   "outputs": [],
   "source": [
    "from tensorflow.keras.utils import to_categorical\n",
    "num_classes = 2\n",
    "label = np.array(data['dig'])\n",
    "label[label == 'N'] = 0\n",
    "label[label == 'P'] = 1\n",
    "label = to_categorical(label, num_classes)"
   ]
  },
  {
   "cell_type": "code",
   "execution_count": 19,
   "id": "deb6fa1d-058b-46f0-9b40-4995bef820aa",
   "metadata": {},
   "outputs": [
    {
     "data": {
      "text/plain": [
       "array([[1., 0.],\n",
       "       [1., 0.],\n",
       "       [1., 0.],\n",
       "       [1., 0.],\n",
       "       [1., 0.],\n",
       "       [1., 0.],\n",
       "       [1., 0.],\n",
       "       [1., 0.],\n",
       "       [1., 0.],\n",
       "       [1., 0.],\n",
       "       [0., 1.],\n",
       "       [0., 1.],\n",
       "       [0., 1.],\n",
       "       [0., 1.],\n",
       "       [0., 1.],\n",
       "       [0., 1.],\n",
       "       [0., 1.],\n",
       "       [0., 1.],\n",
       "       [0., 1.],\n",
       "       [0., 1.]], dtype=float32)"
      ]
     },
     "execution_count": 19,
     "metadata": {},
     "output_type": "execute_result"
    }
   ],
   "source": [
    "label"
   ]
  },
  {
   "cell_type": "code",
   "execution_count": 20,
   "id": "c415b45c-664d-4f1f-bc7c-143e924c7d5c",
   "metadata": {
    "tags": []
   },
   "outputs": [
    {
     "data": {
      "text/plain": [
       "([], [])"
      ]
     },
     "execution_count": 20,
     "metadata": {},
     "output_type": "execute_result"
    },
    {
     "data": {
      "image/png": "[encoded data removed]",
      "text/plain": [
       "<Figure size 640x480 with 1 Axes>"
      ]
     },
     "metadata": {},
     "output_type": "display_data"
    }
   ],
   "source": [
    "import matplotlib.pyplot as plt\n",
    "b = np.around(data_2d[9].astype('float32'),4)\n",
    "plt.imshow(b,cmap=\"Greys\")\n",
    "plt.xticks([])\n",
    "plt.yticks([])"
   ]
  },
  {
   "cell_type": "code",
   "execution_count": 21,
   "id": "9c42cf3b-88d1-4bb0-aec6-79a484a3b347",
   "metadata": {},
   "outputs": [],
   "source": [
    "np.save('data.npy', data_2d)    # .npy extension is added if not given\n",
    "np.save('label.npy', label)  \n",
    "# d = np.load('data_intermediate/x_train.npy',allow_pickle=True)\n",
    "# d[0] == x_train[0]\n",
    "# # x_train == d\n",
    "# d.shape"
   ]
  },
  {
   "cell_type": "code",
   "execution_count": null,
   "id": "03b43e09-48dc-4ec2-966e-c2783dc15022",
   "metadata": {},
   "outputs": [],
   "source": []
  }
 ],
 "metadata": {
  "kernelspec": {
   "display_name": "molmap",
   "language": "python",
   "name": "molmap"
  },
  "language_info": {
   "codemirror_mode": {
    "name": "ipython",
    "version": 3
   },
   "file_extension": ".py",
   "mimetype": "text/x-python",
   "name": "python",
   "nbconvert_exporter": "python",
   "pygments_lexer": "ipython3",
   "version": "3.7.0"
  }
 },
 "nbformat": 4,
 "nbformat_minor": 5
}

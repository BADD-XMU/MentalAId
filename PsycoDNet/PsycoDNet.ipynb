{
 "cells": [
  {
   "cell_type": "markdown",
   "id": "316ba68a-f9ba-437b-9a07-0526eae781f5",
   "metadata": {},
   "source": [
    "### load model PsycoDNet"
   ]
  },
  {
   "cell_type": "code",
   "execution_count": 1,
   "id": "0b5b3f3b-814d-4354-8343-48ee4dd2001f",
   "metadata": {},
   "outputs": [
    {
     "name": "stderr",
     "output_type": "stream",
     "text": [
      "2023-05-12 14:02:36.356546: I tensorflow/stream_executor/platform/default/dso_loader.cc:49] Successfully opened dynamic library libcudart.so.10.1\n"
     ]
    }
   ],
   "source": [
    "import numpy as np\n",
    "import tensorflow as tf\n",
    "import os"
   ]
  },
  {
   "cell_type": "code",
   "execution_count": 2,
   "id": "f753bb4f-2824-49f7-8022-f954bbc02594",
   "metadata": {},
   "outputs": [],
   "source": [
    "os.environ[\"CUDA_VISIBLE_DEVICES\"] = \"0\""
   ]
  },
  {
   "cell_type": "code",
   "execution_count": 4,
   "id": "12b09e35-3c78-4306-9593-1c733c28f9dc",
   "metadata": {},
   "outputs": [],
   "source": [
    "PsycoDNet = tf.keras.models.load_model('model/Densenet_tuned/')"
   ]
  },
  {
   "cell_type": "code",
   "execution_count": 10,
   "id": "7adacafb-c42b-4780-aec9-6bc16427fc55",
   "metadata": {},
   "outputs": [
    {
     "name": "stdout",
     "output_type": "stream",
     "text": [
      "(20, 7, 7)\n"
     ]
    }
   ],
   "source": [
    "data = np.load('data.npy',allow_pickle=True)\n",
    "label = np.load('label.npy',allow_pickle=True)\n",
    "print(data.shape)\n",
    "data = np.expand_dims(data, -1)\n",
    "data = data.astype('float32') "
   ]
  },
  {
   "cell_type": "code",
   "execution_count": 11,
   "id": "43d16aa5-efc9-493d-a915-ae6bdbb29e77",
   "metadata": {},
   "outputs": [],
   "source": [
    "pred = PsycoDNet.predict(data)"
   ]
  },
  {
   "cell_type": "code",
   "execution_count": 12,
   "id": "3a211730-110a-43b4-9c11-9e53b6d2a728",
   "metadata": {},
   "outputs": [
    {
     "name": "stdout",
     "output_type": "stream",
     "text": [
      "> AUC: 1.0000 \n"
     ]
    },
    {
     "data": {
      "text/plain": [
       "array([0, 0, 0, 0, 0, 0, 0, 0, 0, 0, 1, 1, 1, 1, 1, 1, 1, 1, 1, 1])"
      ]
     },
     "execution_count": 12,
     "metadata": {},
     "output_type": "execute_result"
    }
   ],
   "source": [
    "from sklearn.metrics import roc_auc_score\n",
    "from sklearn import metrics\n",
    "label_categorical = np.argmax(label,axis=1)\n",
    "print(f'> AUC: %.4f ' % (metrics.roc_auc_score(label, pred)))\n",
    "pred_categorical = (pred[:,1] >= 0.03915276).astype(int)\n",
    "pred_categorical"
   ]
  },
  {
   "cell_type": "code",
   "execution_count": 13,
   "id": "960073ae-d892-4948-8995-de43e47c0faf",
   "metadata": {},
   "outputs": [
    {
     "name": "stdout",
     "output_type": "stream",
     "text": [
      "> Accuracy: 1.000 \n",
      "> Precision: 1.000 \n",
      "> Recall: 1.000 \n",
      "> Specificity: 1.000 \n",
      "> MCC: 1.000 \n"
     ]
    }
   ],
   "source": [
    "print(f'> Accuracy: %.3f ' % (metrics.accuracy_score(label_categorical, pred_categorical)))\n",
    "print(f'> Precision: %.3f ' % (metrics.precision_score(label_categorical, pred_categorical)))\n",
    "print(f'> Recall: %.3f ' % (metrics.recall_score(label_categorical, pred_categorical)))\n",
    "cm = metrics.confusion_matrix(label_categorical,pred_categorical) # confusion matrix\n",
    "print(f'> Specificity: %.3f ' % (cm[0,0]/(cm[0,0]+cm[0,1])))\n",
    "print(f'> MCC: %.3f ' % (metrics.matthews_corrcoef(label_categorical, pred_categorical)))"
   ]
  },
  {
   "cell_type": "code",
   "execution_count": null,
   "id": "720a4f37-8fa6-41cd-997e-f38b796ff57a",
   "metadata": {},
   "outputs": [],
   "source": []
  }
 ],
 "metadata": {
  "kernelspec": {
   "display_name": "tensorflow-2.4",
   "language": "python",
   "name": "tensorflow-2.4"
  },
  "language_info": {
   "codemirror_mode": {
    "name": "ipython",
    "version": 3
   },
   "file_extension": ".py",
   "mimetype": "text/x-python",
   "name": "python",
   "nbconvert_exporter": "python",
   "pygments_lexer": "ipython3",
   "version": "3.8.0"
  }
 },
 "nbformat": 4,
 "nbformat_minor": 5
}
